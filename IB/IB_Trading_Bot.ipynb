{
 "cells": [
  {
   "cell_type": "code",
   "execution_count": 2,
   "id": "ae7c7c0b",
   "metadata": {},
   "outputs": [],
   "source": [
    "#imports \n",
    "import ibapi\n",
    "from ibapi.client import EClient\n",
    "from ibapi.wrapper import EWrapper"
   ]
  },
  {
   "cell_type": "code",
   "execution_count": 3,
   "id": "0028cc32",
   "metadata": {},
   "outputs": [],
   "source": [
    "#Vars"
   ]
  },
  {
   "cell_type": "code",
   "execution_count": 5,
   "id": "4eb2ce0c",
   "metadata": {},
   "outputs": [],
   "source": [
    "#Class for IB Connection\n",
    "class IBApi(EWrapper,EClient):\n",
    "    def __init__(self):\n",
    "        EClient.__init__(self,self)"
   ]
  },
  {
   "cell_type": "code",
   "execution_count": 7,
   "id": "9160868d",
   "metadata": {},
   "outputs": [],
   "source": [
    "#Bot logic\n",
    "class Bot():\n",
    "    ib = None\n",
    "    def __init__(self):\n",
    "        ib = IBApi()"
   ]
  },
  {
   "cell_type": "code",
   "execution_count": 8,
   "id": "61fbee64",
   "metadata": {},
   "outputs": [],
   "source": [
    "#Start Bot\n",
    "bot = Bot()"
   ]
  },
  {
   "cell_type": "code",
   "execution_count": null,
   "id": "4d138de6",
   "metadata": {},
   "outputs": [],
   "source": []
  }
 ],
 "metadata": {
  "kernelspec": {
   "display_name": "Python 3",
   "language": "python",
   "name": "python3"
  },
  "language_info": {
   "codemirror_mode": {
    "name": "ipython",
    "version": 3
   },
   "file_extension": ".py",
   "mimetype": "text/x-python",
   "name": "python",
   "nbconvert_exporter": "python",
   "pygments_lexer": "ipython3",
   "version": "3.9.4"
  }
 },
 "nbformat": 4,
 "nbformat_minor": 5
}
